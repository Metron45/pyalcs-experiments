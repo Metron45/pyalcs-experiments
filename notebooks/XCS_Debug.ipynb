{
 "cells": [
  {
   "cell_type": "code",
   "execution_count": 14,
   "metadata": {
    "collapsed": true
   },
   "outputs": [],
   "source": [
    "from lcs.agents.xcs import XCS, Configuration, Classifier, ClassifiersList\n",
    "from lcs.agents.Agent import TrialMetrics\n",
    "\n",
    "import logging\n",
    "logging.basicConfig(level=logging.INFO)\n",
    "logger = logging.getLogger(__name__)\n",
    "\n",
    "\n",
    "def print_state(xcs: XCS):\n",
    "    print(f\"Num: {xcs.population.numerosity()}\")\n",
    "    print(f\"Pop: {len(xcs.population)}\")\n",
    "    for cl in xcs.population:\n",
    "        print(str(cl))\n"
   ]
  },
  {
   "cell_type": "code",
   "execution_count": 18,
   "metadata": {},
   "outputs": [
    {
     "name": "stdout",
     "output_type": "stream",
     "text": [
      "[..........X........................................................................................$]\n"
     ]
    }
   ],
   "source": [
    "import gym\n",
    "import gym_yacs_simple_maze, gym_corridor\n",
    "# maze = gym.make('SimpleMaze-v0')\n",
    "maze = gym.make('corridor-100-v0')\n",
    "\n",
    "maze.reset()\n",
    "maze.render()"
   ]
  },
  {
   "cell_type": "code",
   "execution_count": 23,
   "metadata": {},
   "outputs": [],
   "source": [
    "# Initializing XCS values\n",
    "cfg = Configuration(number_of_actions=2,\n",
    "                    epsilon=0.5,\n",
    "                    user_metrics_collector_fcn=None)\n"
   ]
  },
  {
   "cell_type": "code",
   "execution_count": 24,
   "metadata": {},
   "outputs": [
    {
     "name": "stdout",
     "output_type": "stream",
     "text": [
      "Num: 0\nPop: 0\n"
     ]
    }
   ],
   "source": [
    "\n",
    "xcs = XCS(cfg)\n",
    "print_state(xcs)\n"
   ]
  },
  {
   "cell_type": "code",
   "execution_count": 25,
   "metadata": {},
   "outputs": [
    {
     "name": "stdout",
     "output_type": "stream",
     "text": [
      "State: 16\n[...............X...................................................................................$]\n"
     ]
    }
   ],
   "source": [
    "# Init Run Trials Explore\n",
    "prev_action_set = None\n",
    "prev_reward = None\n",
    "prev_situation = None\n",
    "time_stamp = 0  # steps\n",
    "done = False  # eop\n",
    "reward = None\n",
    "\n",
    "raw_state = maze.reset()\n",
    "state = xcs.cfg.environment_adapter.to_genotype(raw_state)\n",
    "\n",
    "print(f\"State: {state}\")\n",
    "maze.render()\n",
    "\n"
   ]
  },
  {
   "cell_type": "code",
   "execution_count": 52,
   "metadata": {
    "collapsed": false
   },
   "outputs": [
    {
     "name": "stdout",
     "output_type": "stream",
     "text": [
      "\nMatch Set & Prediction Array:\nCond:16 - Act:1 - Num:1 [fit: 0.050, exp: 1.00, pred: 0.000000], 0.000000\nCond:16 - Act:0 - Num:1 [fit: 0.095, exp: 2.00, pred: 0.000000], 0.000000\n\nAction Set:\nCond:16 - Act:0 - Num:1 [fit: 0.095, exp: 2.00, pred: 0.000000]\n\nAction: 0\nNum: 6\nPop: 6\nCond:16 - Act:1 - Num:1 [fit: 0.050, exp: 1.00, pred: 0.000000]\nCond:16 - Act:0 - Num:1 [fit: 0.095, exp: 2.00, pred: 0.000000]\nCond:17 - Act:1 - Num:1 [fit: 0.000, exp: 0.00, pred: 0.000000]\nCond:17 - Act:0 - Num:1 [fit: 0.050, exp: 1.00, pred: 0.000000]\nCond:15 - Act:1 - Num:1 [fit: 0.050, exp: 1.00, pred: 0.000000]\nCond:15 - Act:0 - Num:1 [fit: 0.000, exp: 0.00, pred: 0.000000]\n"
     ]
    }
   ],
   "source": [
    "# While loop\n",
    "if done: \n",
    "    print(\"solution found\")\n",
    "match_set = xcs.population.form_match_set(state, time_stamp)\n",
    "prediction_array = xcs.generate_prediction_array(match_set)\n",
    "action = xcs.select_action(prediction_array, match_set)\n",
    "action_set = match_set.form_action_set(action)\n",
    "\n",
    "print(\"\\nMatch Set & Prediction Array:\")\n",
    "for i in range(len(match_set)):\n",
    "    print(f\"{str(match_set[i])}, {prediction_array[i]:3f}\")\n",
    "    \n",
    "print(\"\\nAction Set:\")\n",
    "for cl in action_set:\n",
    "    print(str(cl))\n",
    "    \n",
    "print(f\"\\nAction: {str(action)}\")\n",
    "\n",
    "print_state(xcs)\n"
   ]
  },
  {
   "cell_type": "code",
   "execution_count": 53,
   "metadata": {
    "collapsed": false
   },
   "outputs": [
    {
     "name": "stdout",
     "output_type": "stream",
     "text": [
      "New State: 15, Reward: 5.649403455557618e-41\n"
     ]
    }
   ],
   "source": [
    "from lcs.strategies.reinforcement_learning import simple_q_learning\n",
    "\n",
    "raw_state, reward, done, _ = maze.step(action)\n",
    "state = xcs.cfg.environment_adapter.to_genotype(raw_state)\n",
    "reward = simple_q_learning(xcs.act_reward[action],\n",
    "                           reward,\n",
    "                           xcs.cfg.beta,\n",
    "                           xcs.cfg.gamma,\n",
    "                           match_set.best_prediction())\n",
    "\n",
    "\n",
    "print(f\"New State: {state}, Reward: {reward}\")\n"
   ]
  },
  {
   "cell_type": "code",
   "execution_count": 54,
   "metadata": {},
   "outputs": [
    {
     "name": "stdout",
     "output_type": "stream",
     "text": [
      "Performing update\nNum: 6\nPop: 6\nCond:16 - Act:1 - Num:1 [fit: 0.050, exp: 1.00, pred: 0.000000]\nCond:16 - Act:0 - Num:1 [fit: 0.095, exp: 2.00, pred: 0.000000]\nCond:17 - Act:1 - Num:1 [fit: 0.000, exp: 0.00, pred: 0.000000]\nCond:17 - Act:0 - Num:1 [fit: 0.050, exp: 1.00, pred: 0.000000]\nCond:15 - Act:1 - Num:1 [fit: 0.095, exp: 2.00, pred: 0.000000]\nCond:15 - Act:0 - Num:1 [fit: 0.000, exp: 0.00, pred: 0.000000]\n"
     ]
    }
   ],
   "source": [
    "if prev_action_set is not None and len(prev_action_set) > 0:\n",
    "    print(\"Performing update\")\n",
    "    p = prev_reward + xcs.cfg.gamma * max(prediction_array)\n",
    "    xcs.update_set(prev_action_set, p)\n",
    "    xcs.run_ga(prev_action_set, prev_situation, time_stamp)\n",
    "    \n",
    "print_state(xcs)\n"
   ]
  },
  {
   "cell_type": "code",
   "execution_count": 55,
   "metadata": {},
   "outputs": [
    {
     "name": "stdout",
     "output_type": "stream",
     "text": [
      "Postponing\nNum: 6\nPop: 6\nCond:16 - Act:1 - Num:1 [fit: 0.050, exp: 1.00, pred: 0.000000]\nCond:16 - Act:0 - Num:1 [fit: 0.095, exp: 2.00, pred: 0.000000]\nCond:17 - Act:1 - Num:1 [fit: 0.000, exp: 0.00, pred: 0.000000]\nCond:17 - Act:0 - Num:1 [fit: 0.050, exp: 1.00, pred: 0.000000]\nCond:15 - Act:1 - Num:1 [fit: 0.095, exp: 2.00, pred: 0.000000]\nCond:15 - Act:0 - Num:1 [fit: 0.000, exp: 0.00, pred: 0.000000]\n"
     ]
    }
   ],
   "source": [
    "if done:\n",
    "    print(\"Performing update\")\n",
    "    p = reward\n",
    "    xcs.update_set(prev_action_set, p)\n",
    "    xcs.run_ga(action_set, state, time_stamp)\n",
    "else:\n",
    "    print(\"Postponing\")\n",
    "    prev_action_set = action_set\n",
    "    prev_reward = reward\n",
    "    prev_situation = state\n",
    "time_stamp += 1\n",
    "\n",
    "print_state(xcs)\n",
    "\n",
    "\n",
    "\n",
    "\n"
   ]
  },
  {
   "cell_type": "code",
   "execution_count": null,
   "metadata": {},
   "outputs": [],
   "source": []
  }
 ],
 "metadata": {
  "kernelspec": {
   "display_name": "Python 2",
   "language": "python",
   "name": "python2"
  },
  "language_info": {
   "codemirror_mode": {
    "name": "ipython",
    "version": 2
   },
   "file_extension": ".py",
   "mimetype": "text/x-python",
   "name": "python",
   "nbconvert_exporter": "python",
   "pygments_lexer": "ipython2",
   "version": "2.7.6"
  }
 },
 "nbformat": 4,
 "nbformat_minor": 0
}
