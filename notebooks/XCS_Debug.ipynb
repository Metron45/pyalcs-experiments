{
 "cells": [
  {
   "cell_type": "code",
   "execution_count": 2,
   "metadata": {
    "collapsed": true
   },
   "outputs": [],
   "source": [
    "from lcs.agents.xcs import XCS, Configuration, Classifier, ClassifiersList\n",
    "from lcs.agents.Agent import TrialMetrics\n",
    "\n",
    "import logging\n",
    "logging.basicConfig(level=logging.INFO)\n",
    "logger = logging.getLogger(__name__)\n",
    "\n",
    "\n",
    "def print_state(xcs: XCS):\n",
    "    print(f\"Num: {xcs.population.numerosity()}\")\n",
    "    print(f\"Pop: {len(xcs.population)}\")\n",
    "    for cl in xcs.population:\n",
    "        print(str(cl))\n"
   ]
  },
  {
   "cell_type": "code",
   "execution_count": 3,
   "metadata": {},
   "outputs": [
    {
     "data": {
      "text/plain": [
       "'State: None'"
      ]
     },
     "execution_count": 3,
     "metadata": {},
     "output_type": "execute_result"
    }
   ],
   "source": [
    "import gym\n",
    "import gym_simple_maze_rp\n",
    "maze = gym.make('SimpleMazeRP-v0')\n",
    "maze.render()"
   ]
  },
  {
   "cell_type": "code",
   "execution_count": 33,
   "metadata": {},
   "outputs": [],
   "source": [
    "# Initializing XCS values\n",
    "cfg = Configuration(theta_mna=4,\n",
    "                    epsilon=0.5,\n",
    "                    user_metrics_collector_fcn=None)\n"
   ]
  },
  {
   "cell_type": "code",
   "execution_count": 5,
   "metadata": {},
   "outputs": [],
   "source": [
    "\n",
    "xcs = XCS(cfg)\n",
    "print_state(xcs)\n"
   ]
  },
  {
   "cell_type": "code",
   "execution_count": 6,
   "metadata": {},
   "outputs": [
    {
     "name": "stdout",
     "output_type": "stream",
     "text": [
      "State: ['0', '1', '1', '1']\n"
     ]
    },
    {
     "data": {
      "text/plain": [
       "'State: 3'"
      ]
     },
     "execution_count": 6,
     "metadata": {},
     "output_type": "execute_result"
    }
   ],
   "source": [
    "# Init Run Trials Explore\n",
    "prev_action_set = None\n",
    "prev_reward = None\n",
    "prev_situation = None\n",
    "time_stamp = 0  # steps\n",
    "done = False  # eop\n",
    "reward = None\n",
    "\n",
    "raw_state = maze.reset()\n",
    "state = xcs.cfg.environment_adapter.to_genotype(raw_state)\n",
    "\n",
    "print(f\"State: {state}\")\n",
    "maze.render()\n",
    "\n"
   ]
  },
  {
   "cell_type": "code",
   "execution_count": 37,
   "metadata": {
    "collapsed": false
   },
   "outputs": [
    {
     "name": "stdout",
     "output_type": "stream",
     "text": [
      "\nMatch Set & Prediction Array:\nCond:0111 - Act:3 - Num:1 [fit: 0.000, exp: 0.00, pred: 0.000000], 0.000000\nCond:0111 - Act:2 - Num:1 [fit: 0.050, exp: 1.00, pred: 0.000000], 0.000000\nCond:0111 - Act:1 - Num:1 [fit: 0.000, exp: 0.00, pred: 0.000000], 0.000000\nCond:0111 - Act:0 - Num:1 [fit: 0.050, exp: 1.00, pred: 1.000000], 1.000000\n\nAction Set:\nCond:0111 - Act:0 - Num:1 [fit: 0.050, exp: 1.00, pred: 1.000000]\n\nAction: 0\nNum: 8\nPop: 8\nCond:0111 - Act:3 - Num:1 [fit: 0.000, exp: 0.00, pred: 0.000000]\nCond:0111 - Act:2 - Num:1 [fit: 0.050, exp: 1.00, pred: 0.000000]\nCond:0111 - Act:1 - Num:1 [fit: 0.000, exp: 0.00, pred: 0.000000]\nCond:0111 - Act:0 - Num:1 [fit: 0.050, exp: 1.00, pred: 1.000000]\nCond:1001 - Act:3 - Num:1 [fit: 0.095, exp: 2.00, pred: 0.000000]\nCond:1001 - Act:2 - Num:1 [fit: 0.000, exp: 0.00, pred: 0.000000]\nCond:1001 - Act:1 - Num:1 [fit: 0.000, exp: 0.00, pred: 0.000000]\nCond:1001 - Act:0 - Num:1 [fit: 0.000, exp: 0.00, pred: 0.000000]\n"
     ]
    }
   ],
   "source": [
    "# While loop\n",
    "if done: \n",
    "    print(\"solution found\")\n",
    "match_set = xcs.population.form_match_set(state, time_stamp)\n",
    "prediction_array = xcs.generate_prediction_array(match_set)\n",
    "action = xcs.select_action(prediction_array, match_set)\n",
    "action_set = match_set.form_action_set(action)\n",
    "\n",
    "print(\"\\nMatch Set & Prediction Array:\")\n",
    "for i in range(len(match_set)):\n",
    "    print(f\"{str(match_set[i])}, {prediction_array[i]:3f}\")\n",
    "    \n",
    "print(\"\\nAction Set:\")\n",
    "for cl in action_set:\n",
    "    print(str(cl))\n",
    "    \n",
    "print(f\"\\nAction: {str(action)}\")\n",
    "\n",
    "print_state(xcs)\n"
   ]
  },
  {
   "cell_type": "code",
   "execution_count": 26,
   "metadata": {
    "collapsed": false
   },
   "outputs": [
    {
     "name": "stdout",
     "output_type": "stream",
     "text": [
      "New State: ['0', '1', '1', '1'], Reward: 0\n"
     ]
    }
   ],
   "source": [
    "\n",
    "raw_state, reward, done, _ = maze.step(action)\n",
    "state = xcs.cfg.environment_adapter.to_genotype(raw_state)\n",
    "\n",
    "print(f\"New State: {state}, Reward: {reward}\")\n"
   ]
  },
  {
   "cell_type": "code",
   "execution_count": 27,
   "metadata": {},
   "outputs": [
    {
     "name": "stdout",
     "output_type": "stream",
     "text": [
      "Performing update\nNum: 8\nPop: 8\nCond:0111 - Act:3 - Num:1 [fit: 0.000, exp: 0.00, pred: 0.000000]\nCond:0111 - Act:2 - Num:1 [fit: 0.050, exp: 1.00, pred: 0.000000]\nCond:0111 - Act:1 - Num:1 [fit: 0.000, exp: 0.00, pred: 0.000000]\nCond:0111 - Act:0 - Num:1 [fit: 0.050, exp: 1.00, pred: 1.000000]\nCond:1001 - Act:3 - Num:1 [fit: 0.095, exp: 2.00, pred: 0.000000]\nCond:1001 - Act:2 - Num:1 [fit: 0.000, exp: 0.00, pred: 0.000000]\nCond:1001 - Act:1 - Num:1 [fit: 0.000, exp: 0.00, pred: 0.000000]\nCond:1001 - Act:0 - Num:1 [fit: 0.000, exp: 0.00, pred: 0.000000]\n"
     ]
    }
   ],
   "source": [
    "if prev_action_set is not None and len(prev_action_set) > 0:\n",
    "    print(\"Performing update\")\n",
    "    p = prev_reward + xcs.cfg.gamma * max(prediction_array)\n",
    "    xcs.update_set(prev_action_set, p)\n",
    "    xcs.run_ga(prev_action_set, prev_situation, time_stamp)\n",
    "    \n",
    "print_state(xcs)\n"
   ]
  },
  {
   "cell_type": "code",
   "execution_count": 28,
   "metadata": {},
   "outputs": [
    {
     "name": "stdout",
     "output_type": "stream",
     "text": [
      "Postponing\nNum: 8\nPop: 8\nCond:0111 - Act:3 - Num:1 [fit: 0.000, exp: 0.00, pred: 0.000000]\nCond:0111 - Act:2 - Num:1 [fit: 0.050, exp: 1.00, pred: 0.000000]\nCond:0111 - Act:1 - Num:1 [fit: 0.000, exp: 0.00, pred: 0.000000]\nCond:0111 - Act:0 - Num:1 [fit: 0.050, exp: 1.00, pred: 1.000000]\nCond:1001 - Act:3 - Num:1 [fit: 0.095, exp: 2.00, pred: 0.000000]\nCond:1001 - Act:2 - Num:1 [fit: 0.000, exp: 0.00, pred: 0.000000]\nCond:1001 - Act:1 - Num:1 [fit: 0.000, exp: 0.00, pred: 0.000000]\nCond:1001 - Act:0 - Num:1 [fit: 0.000, exp: 0.00, pred: 0.000000]\n"
     ]
    }
   ],
   "source": [
    "if done:\n",
    "    print(\"Performing update\")\n",
    "    p = reward\n",
    "    xcs.update_set(prev_action_set, p)\n",
    "    xcs.run_ga(action_set, state, time_stamp)\n",
    "else:\n",
    "    print(\"Postponing\")\n",
    "    prev_action_set = action_set\n",
    "    prev_reward = reward\n",
    "    prev_situation = state\n",
    "time_stamp += 1\n",
    "\n",
    "print_state(xcs)\n"
   ]
  },
  {
   "cell_type": "code",
   "execution_count": 29,
   "metadata": {},
   "outputs": [],
   "source": [
    "\n"
   ]
  },
  {
   "cell_type": "code",
   "execution_count": null,
   "metadata": {},
   "outputs": [],
   "source": []
  }
 ],
 "metadata": {
  "kernelspec": {
   "display_name": "Python 2",
   "language": "python",
   "name": "python2"
  },
  "language_info": {
   "codemirror_mode": {
    "name": "ipython",
    "version": 2
   },
   "file_extension": ".py",
   "mimetype": "text/x-python",
   "name": "python",
   "nbconvert_exporter": "python",
   "pygments_lexer": "ipython2",
   "version": "2.7.6"
  }
 },
 "nbformat": 4,
 "nbformat_minor": 0
}
