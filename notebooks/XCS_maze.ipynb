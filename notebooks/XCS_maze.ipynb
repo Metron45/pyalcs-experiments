{
 "cells": [
  {
   "cell_type": "code",
   "execution_count": 1,
   "metadata": {},
   "outputs": [],
   "source": [
    "# logging \n",
    "import logging\n",
    "logging.basicConfig(level=logging.INFO)\n",
    "logger = logging.getLogger(__name__)\n"
   ]
  },
  {
   "cell_type": "code",
   "execution_count": 2,
   "metadata": {},
   "outputs": [
    {
     "name": "stdout",
     "output_type": "stream",
     "text": [
      "This is how maze looks like\n",
      "\n",
      "\u001b[30m■\u001b[0m \u001b[30m■\u001b[0m \u001b[30m■\u001b[0m \u001b[30m■\u001b[0m \u001b[30m■\u001b[0m \u001b[30m■\u001b[0m \u001b[30m■\u001b[0m \u001b[30m■\u001b[0m\n",
      "\u001b[30m■\u001b[0m \u001b[37m□\u001b[0m \u001b[37m□\u001b[0m \u001b[30m■\u001b[0m \u001b[31mA\u001b[0m \u001b[37m□\u001b[0m \u001b[33m$\u001b[0m \u001b[30m■\u001b[0m\n",
      "\u001b[30m■\u001b[0m \u001b[30m■\u001b[0m \u001b[37m□\u001b[0m \u001b[37m□\u001b[0m \u001b[30m■\u001b[0m \u001b[37m□\u001b[0m \u001b[37m□\u001b[0m \u001b[30m■\u001b[0m\n",
      "\u001b[30m■\u001b[0m \u001b[30m■\u001b[0m \u001b[37m□\u001b[0m \u001b[30m■\u001b[0m \u001b[37m□\u001b[0m \u001b[37m□\u001b[0m \u001b[30m■\u001b[0m \u001b[30m■\u001b[0m\n",
      "\u001b[30m■\u001b[0m \u001b[37m□\u001b[0m \u001b[37m□\u001b[0m \u001b[37m□\u001b[0m \u001b[37m□\u001b[0m \u001b[37m□\u001b[0m \u001b[37m□\u001b[0m \u001b[30m■\u001b[0m\n",
      "\u001b[30m■\u001b[0m \u001b[30m■\u001b[0m \u001b[37m□\u001b[0m \u001b[30m■\u001b[0m \u001b[37m□\u001b[0m \u001b[37m□\u001b[0m \u001b[37m□\u001b[0m \u001b[30m■\u001b[0m\n",
      "\u001b[30m■\u001b[0m \u001b[37m□\u001b[0m \u001b[37m□\u001b[0m \u001b[37m□\u001b[0m \u001b[37m□\u001b[0m \u001b[30m■\u001b[0m \u001b[37m□\u001b[0m \u001b[30m■\u001b[0m\n",
      "\u001b[30m■\u001b[0m \u001b[30m■\u001b[0m \u001b[30m■\u001b[0m \u001b[30m■\u001b[0m \u001b[30m■\u001b[0m \u001b[30m■\u001b[0m \u001b[30m■\u001b[0m \u001b[30m■\u001b[0m\n"
     ]
    }
   ],
   "source": [
    "# environment setup\n",
    "import gym\n",
    "# noinspection PyUnresolvedReferences\n",
    "import gym_maze\n",
    "\n",
    "maze = gym.make('Maze4-v0')\n",
    "print(\"This is how maze looks like\")\n",
    "situation = maze.reset()\n",
    "maze.render()"
   ]
  },
  {
   "cell_type": "code",
   "execution_count": 4,
   "metadata": {},
   "outputs": [
    {
     "name": "stderr",
     "output_type": "stream",
     "text": [
      "INFO:lcs.agents.Agent:{'trial': 0, 'steps_in_trial': 50, 'reward': 1.4451092936882999e-40, 'numerosity': 36, 'knowledge': 0.13043478260869565, 'population': 28}\n",
      "INFO:lcs.agents.Agent:{'trial': 100, 'steps_in_trial': 7, 'reward': 100.0001059583905, 'numerosity': 120, 'knowledge': 0.5130434782608696, 'population': 104}\n",
      "INFO:lcs.agents.Agent:{'trial': 200, 'steps_in_trial': 4, 'reward': 100.00000112319233, 'numerosity': 128, 'knowledge': 0.5043478260869565, 'population': 104}\n",
      "INFO:lcs.agents.Agent:{'trial': 300, 'steps_in_trial': 50, 'reward': 1.818231557629009e-51, 'numerosity': 136, 'knowledge': 0.5043478260869565, 'population': 104}\n",
      "INFO:lcs.agents.Agent:{'trial': 400, 'steps_in_trial': 5, 'reward': 100.0000720073871, 'numerosity': 136, 'knowledge': 0.5043478260869565, 'population': 104}\n",
      "INFO:lcs.agents.Agent:{'trial': 500, 'steps_in_trial': 10, 'reward': 100.0, 'numerosity': 136, 'knowledge': 0.5043478260869565, 'population': 104}\n",
      "INFO:lcs.agents.Agent:{'trial': 600, 'steps_in_trial': 50, 'reward': 2.9742918792466835e-59, 'numerosity': 136, 'knowledge': 0.5043478260869565, 'population': 104}\n",
      "INFO:lcs.agents.Agent:{'trial': 700, 'steps_in_trial': 50, 'reward': 2.613545308685541e-61, 'numerosity': 136, 'knowledge': 0.5043478260869565, 'population': 104}\n",
      "INFO:lcs.agents.Agent:{'trial': 800, 'steps_in_trial': 16, 'reward': 100.00000001642343, 'numerosity': 136, 'knowledge': 0.5043478260869565, 'population': 104}\n",
      "INFO:lcs.agents.Agent:{'trial': 900, 'steps_in_trial': 50, 'reward': 3.3574815009357424e-68, 'numerosity': 136, 'knowledge': 0.5043478260869565, 'population': 104}\n"
     ]
    },
    {
     "name": "stdout",
     "output_type": "stream",
     "text": [
      "Cond:01010101 - Act:3 - Num:1 [fit: 0.030, exp: 6.00, pred: 9.151]\n",
      "Cond:01010101 - Act:2 - Num:1 [fit: 0.000, exp: 45.00, pred: 16.266]\n",
      "Cond:01010101 - Act:1 - Num:1 [fit: 0.080, exp: 8.00, pred: 7.067]\n",
      "Cond:01010101 - Act:0 - Num:1 [fit: 0.045, exp: 9.00, pred: 8.589]\n",
      "Cond:10001000 - Act:3 - Num:1 [fit: 0.004, exp: 24.00, pred: 12.922]\n",
      "Cond:10001000 - Act:2 - Num:1 [fit: 0.005, exp: 22.00, pred: 16.924]\n",
      "Cond:10001000 - Act:1 - Num:1 [fit: 0.000, exp: 136.00, pred: 22.537]\n",
      "Cond:10001000 - Act:0 - Num:1 [fit: 0.004, exp: 24.00, pred: 16.221]\n",
      "Cond:00000101 - Act:3 - Num:1 [fit: 0.019, exp: 10.00, pred: 12.217]\n",
      "Cond:00000101 - Act:2 - Num:1 [fit: 0.017, exp: 11.00, pred: 18.170]\n",
      "Cond:00000101 - Act:1 - Num:1 [fit: 0.002, exp: 30.00, pred: 28.339]\n",
      "Cond:00000101 - Act:0 - Num:1 [fit: 0.007, exp: 20.00, pred: 21.954]\n",
      "Cond:00001000 - Act:3 - Num:1 [fit: 0.052, exp: 12.00, pred: 0.018]\n",
      "Cond:00001000 - Act:2 - Num:1 [fit: 0.037, exp: 11.00, pred: 0.020]\n",
      "Cond:00001000 - Act:1 - Num:1 [fit: 0.041, exp: 10.00, pred: 0.013]\n",
      "Cond:00001000 - Act:0 - Num:1 [fit: 0.000, exp: 50.00, pred: 18.434]\n",
      "Cond:01111110 - Act:3 - Num:3 [fit: 0.750, exp: 107.00, pred: 0.000]\n",
      "Cond:01111110 - Act:2 - Num:3 [fit: 0.750, exp: 109.00, pred: 0.000]\n",
      "Cond:01111110 - Act:1 - Num:3 [fit: 0.750, exp: 103.00, pred: 0.000]\n",
      "Cond:01111110 - Act:0 - Num:3 [fit: 0.737, exp: 47.00, pred: 0.000]\n",
      "Cond:01110100 - Act:3 - Num:3 [fit: 0.750, exp: 300.00, pred: 0.000]\n",
      "Cond:01110100 - Act:2 - Num:3 [fit: 0.750, exp: 287.00, pred: 0.000]\n",
      "Cond:01110100 - Act:1 - Num:3 [fit: 0.750, exp: 293.00, pred: 0.000]\n",
      "Cond:011101#0 - Act:0 - Num:3 [fit: 0.750, exp: 125.00, pred: 0.000]\n",
      "Cond:11110000 - Act:3 - Num:3 [fit: 0.750, exp: 2866.00, pred: 0.000]\n",
      "Cond:11110000 - Act:2 - Num:3 [fit: 0.750, exp: 2842.00, pred: 0.000]\n",
      "Cond:11110000 - Act:1 - Num:3 [fit: 0.750, exp: 2865.00, pred: 0.000]\n",
      "Cond:11110#00 - Act:0 - Num:3 [fit: 0.750, exp: 2870.00, pred: 0.000]\n",
      "Cond:10000010 - Act:3 - Num:1 [fit: 0.003, exp: 36.00, pred: 18.473]\n",
      "Cond:10000010 - Act:2 - Num:1 [fit: 0.000, exp: 86.00, pred: 27.169]\n",
      "Cond:10000010 - Act:1 - Num:1 [fit: 0.000, exp: 159.00, pred: 31.308]\n",
      "Cond:10000010 - Act:0 - Num:1 [fit: 0.001, exp: 37.00, pred: 22.188]\n",
      "Cond:01000000 - Act:3 - Num:1 [fit: 0.004, exp: 32.00, pred: 0.004]\n",
      "Cond:01000000 - Act:2 - Num:1 [fit: 0.002, exp: 41.00, pred: 0.003]\n",
      "Cond:01000000 - Act:1 - Num:1 [fit: 0.001, exp: 41.00, pred: 18.719]\n",
      "Cond:01000000 - Act:0 - Num:1 [fit: 0.000, exp: 181.00, pred: 27.560]\n",
      "Cond:00100011 - Act:3 - Num:1 [fit: 0.009, exp: 17.00, pred: 15.089]\n",
      "Cond:00100011 - Act:2 - Num:1 [fit: 0.045, exp: 9.00, pred: 8.879]\n",
      "Cond:00100011 - Act:1 - Num:1 [fit: 0.001, exp: 42.00, pred: 17.377]\n",
      "Cond:00100011 - Act:0 - Num:1 [fit: 0.019, exp: 10.00, pred: 10.409]\n",
      "Cond:10101000 - Act:3 - Num:1 [fit: 0.000, exp: 74.00, pred: 22.185]\n",
      "Cond:10101000 - Act:2 - Num:1 [fit: 0.001, exp: 48.00, pred: 16.901]\n",
      "Cond:10101000 - Act:1 - Num:1 [fit: 0.000, exp: 141.00, pred: 25.226]\n",
      "Cond:10101000 - Act:0 - Num:1 [fit: 0.002, exp: 33.00, pred: 17.218]\n",
      "Cond:10011100 - Act:3 - Num:1 [fit: 0.009, exp: 17.00, pred: 8.643]\n",
      "Cond:10011100 - Act:2 - Num:1 [fit: 0.033, exp: 12.00, pred: 7.428]\n",
      "Cond:10011100 - Act:1 - Num:1 [fit: 0.000, exp: 56.00, pred: 13.210]\n",
      "Cond:10011100 - Act:0 - Num:1 [fit: 0.030, exp: 13.00, pred: 6.382]\n",
      "Cond:00111101 - Act:3 - Num:1 [fit: 0.041, exp: 10.00, pred: 7.406]\n",
      "Cond:00111101 - Act:2 - Num:1 [fit: 0.062, exp: 6.00, pred: 5.496]\n",
      "Cond:00111101 - Act:1 - Num:1 [fit: 0.022, exp: 16.00, pred: 12.114]\n",
      "Cond:00111101 - Act:0 - Num:1 [fit: 0.001, exp: 37.00, pred: 13.622]\n",
      "Cond:10011111 - Act:3 - Num:1 [fit: 0.017, exp: 11.00, pred: 6.021]\n",
      "Cond:10011111 - Act:2 - Num:1 [fit: 0.022, exp: 9.00, pred: 5.669]\n",
      "Cond:10011111 - Act:1 - Num:1 [fit: 0.002, exp: 40.00, pred: 11.521]\n",
      "Cond:10011111 - Act:0 - Num:1 [fit: 0.017, exp: 11.00, pred: 5.916]\n",
      "Cond:01011101 - Act:3 - Num:1 [fit: 0.065, exp: 10.00, pred: 4.561]\n",
      "Cond:01011101 - Act:2 - Num:1 [fit: 0.014, exp: 13.00, pred: 6.976]\n",
      "Cond:01011101 - Act:1 - Num:1 [fit: 0.052, exp: 12.00, pred: 4.976]\n",
      "Cond:01011101 - Act:0 - Num:1 [fit: 0.001, exp: 36.00, pred: 11.759]\n",
      "Cond:00010010 - Act:3 - Num:1 [fit: 0.005, exp: 22.00, pred: 13.762]\n",
      "Cond:00010010 - Act:2 - Num:1 [fit: 0.008, exp: 19.00, pred: 12.214]\n",
      "Cond:00010010 - Act:1 - Num:1 [fit: 0.000, exp: 119.00, pred: 18.048]\n",
      "Cond:00010010 - Act:0 - Num:1 [fit: 0.010, exp: 23.00, pred: 16.292]\n",
      "Cond:00100001 - Act:3 - Num:1 [fit: 0.000, exp: 55.00, pred: 0.004]\n",
      "Cond:00100001 - Act:2 - Num:1 [fit: 0.000, exp: 58.00, pred: 26.250]\n",
      "Cond:00100001 - Act:1 - Num:1 [fit: 0.000, exp: 78.00, pred: 26.177]\n",
      "Cond:00100001 - Act:0 - Num:1 [fit: 0.000, exp: 248.00, pred: 37.038]\n",
      "Cond:09010010 - Act:3 - Num:1 [fit: 0.000, exp: 325.00, pred: 28.784]\n",
      "Cond:09010010 - Act:2 - Num:1 [fit: 0.000, exp: 236.00, pred: 28.317]\n",
      "Cond:09010010 - Act:1 - Num:1 [fit: 0.000, exp: 0.00, pred: 0.000]\n",
      "Cond:09010010 - Act:0 - Num:1 [fit: 0.000, exp: 231.00, pred: 26.314]\n",
      "Cond:01010110 - Act:3 - Num:1 [fit: 0.044, exp: 17.00, pred: 8.681]\n",
      "Cond:01010110 - Act:2 - Num:1 [fit: 0.000, exp: 50.00, pred: 16.970]\n",
      "Cond:01010110 - Act:1 - Num:1 [fit: 0.013, exp: 14.00, pred: 9.530]\n",
      "Cond:01010110 - Act:0 - Num:1 [fit: 0.027, exp: 7.00, pred: 9.806]\n",
      "Cond:11001011 - Act:3 - Num:1 [fit: 0.000, exp: 167.00, pred: 37.122]\n",
      "Cond:11001011 - Act:2 - Num:1 [fit: 0.002, exp: 34.00, pred: 26.969]\n",
      "Cond:11001011 - Act:1 - Num:1 [fit: 0.006, exp: 21.00, pred: 24.127]\n",
      "Cond:11001011 - Act:0 - Num:1 [fit: 0.005, exp: 23.00, pred: 23.971]\n",
      "Cond:91111000 - Act:3 - Num:3 [fit: 0.000, exp: 1385.00, pred: 38.769]\n",
      "Cond:91#11000 - Act:2 - Num:2 [fit: 0.000, exp: 1556.00, pred: 32.767]\n",
      "Cond:91111000 - Act:1 - Num:4 [fit: 0.000, exp: 1269.00, pred: 25.340]\n",
      "Cond:91111000 - Act:0 - Num:3 [fit: 0.000, exp: 0.00, pred: 0.000]\n",
      "Cond:11001111 - Act:3 - Num:1 [fit: 0.027, exp: 7.00, pred: 10.217]\n",
      "Cond:11001111 - Act:2 - Num:1 [fit: 0.001, exp: 40.00, pred: 12.047]\n",
      "Cond:11001111 - Act:1 - Num:1 [fit: 0.019, exp: 10.00, pred: 7.072]\n",
      "Cond:11001111 - Act:0 - Num:1 [fit: 0.017, exp: 11.00, pred: 6.286]\n",
      "Cond:11100101 - Act:3 - Num:1 [fit: 0.000, exp: 88.00, pred: 17.588]\n",
      "Cond:11100101 - Act:2 - Num:1 [fit: 0.043, exp: 14.00, pred: 9.435]\n",
      "Cond:11100101 - Act:1 - Num:1 [fit: 0.025, exp: 19.00, pred: 9.945]\n",
      "Cond:11100101 - Act:0 - Num:1 [fit: 0.098, exp: 12.00, pred: 6.260]\n",
      "Cond:00100010 - Act:3 - Num:1 [fit: 0.012, exp: 22.00, pred: 8.413]\n",
      "Cond:00100010 - Act:2 - Num:1 [fit: 0.022, exp: 16.00, pred: 10.639]\n",
      "Cond:00100010 - Act:1 - Num:1 [fit: 0.000, exp: 86.00, pred: 15.414]\n",
      "Cond:00100010 - Act:0 - Num:1 [fit: 0.008, exp: 19.00, pred: 10.809]\n",
      "Cond:11900101 - Act:3 - Num:1 [fit: 0.000, exp: 205.00, pred: 28.732]\n",
      "Cond:11900101 - Act:2 - Num:1 [fit: 0.000, exp: 0.00, pred: 0.000]\n",
      "Cond:11900101 - Act:1 - Num:1 [fit: 0.000, exp: 353.00, pred: 31.596]\n",
      "Cond:11900101 - Act:0 - Num:1 [fit: 0.000, exp: 248.00, pred: 31.889]\n",
      "Cond:10001111 - Act:3 - Num:1 [fit: 0.041, exp: 3.00, pred: 8.332]\n",
      "Cond:10001111 - Act:2 - Num:1 [fit: 0.030, exp: 6.00, pred: 9.255]\n",
      "Cond:10001111 - Act:1 - Num:1 [fit: 0.002, exp: 32.00, pred: 11.966]\n",
      "Cond:10001111 - Act:0 - Num:1 [fit: 0.036, exp: 4.00, pred: 7.354]\n"
     ]
    }
   ],
   "source": [
    "from lcs.agents.xcs import XCS, Configuration\n",
    "\n",
    "\n",
    "def xcs_maze_knowledge(population, environment) -> float:\n",
    "    transitions = environment.env.get_all_possible_transitions()\n",
    "    nr_correct = 0\n",
    "    for start, action, end in transitions:\n",
    "        perception = environment.env.maze.perception(*start)\n",
    "        if any([True for cl in population\n",
    "                if cl.does_match(perception) and\n",
    "                cl.action == action and\n",
    "                cl.wildcard_number() == 0\n",
    "               ]):\n",
    "            nr_correct += 1\n",
    "    return nr_correct / len(transitions)\n",
    "\n",
    "def xcs_maze_metrics(xcs: XCS, environment):\n",
    "    return {\n",
    "        'numerosity': xcs.population.numerosity(),\n",
    "        'knowledge': xcs_maze_knowledge(xcs.population, environment),\n",
    "        'population': len(xcs.population)\n",
    "    }\n",
    "\n",
    "\n",
    "cfg = Configuration(number_of_actions=4,\n",
    "                    max_population=200,\n",
    "                    metrics_trial_frequency=1,\n",
    "                    user_metrics_collector_fcn=xcs_maze_metrics)\n",
    "\n",
    "agent = XCS(cfg)\n",
    "explore_population, explore_metrics = agent.explore(maze, 1000, False)\n",
    "\n",
    "for cl in explore_population:\n",
    "    print(str(cl))\n",
    "\n",
    "\n"
   ]
  },
  {
   "cell_type": "code",
   "execution_count": 5,
   "metadata": {},
   "outputs": [
    {
     "name": "stdout",
     "output_type": "stream",
     "text": [
      "[27.74, 23.46, 25.34, 25.82, 19.4, 21.02, 20.7, 22.5, 16.72, 20.62, 16.9, 22.42, 19.76, 18.52, 22.64, 22.56, 22.9, 23.36, 20.2, 21.48]\n"
     ]
    },
    {
     "data": {
      "text/plain": [
       "<matplotlib.legend.Legend at 0x1d178879848>"
      ]
     },
     "execution_count": 5,
     "metadata": {},
     "output_type": "execute_result"
    },
    {
     "data": {
      "image/png": "[encoded data removed]",
      "text/plain": [
       "<Figure size 432x288 with 1 Axes>"
      ]
     },
     "metadata": {
      "needs_background": "light"
     },
     "output_type": "display_data"
    },
    {
     "data": {
      "image/png": "[encoded data removed]",
      "text/plain": [
       "<Figure size 432x288 with 1 Axes>"
      ]
     },
     "metadata": {
      "needs_background": "light"
     },
     "output_type": "display_data"
    },
    {
     "data": {
      "image/png": "[encoded data removed]",
      "text/plain": [
       "<Figure size 432x288 with 1 Axes>"
      ]
     },
     "metadata": {
      "needs_background": "light"
     },
     "output_type": "display_data"
    }
   ],
   "source": [
    "import pandas as pd\n",
    "import numpy as np\n",
    "\n",
    "df = pd.DataFrame(metric[\"knowledge\"] for metric in explore_metrics)\n",
    "ax = df.plot()\n",
    "ax.set_xlabel(\"trial\")\n",
    "ax.set_ylabel(\"knowledge %\")\n",
    "ax.legend([\"knowledge %\"])\n",
    "\n",
    "\n",
    "df = pd.DataFrame(zip([metric[\"population\"] for metric in explore_metrics], [metric[\"numerosity\"] for metric in explore_metrics]))\n",
    "ax = df.plot()\n",
    "ax.set_xlabel(\"trial\")\n",
    "ax.set_ylabel(\"population\")\n",
    "ax.legend([\"pop\", \"num\"])\n",
    "\n",
    "steps_averaged = []\n",
    "\n",
    "\n",
    "\n",
    "xf = [metric[\"steps_in_trial\"] for metric in explore_metrics]\n",
    "temp_df = np.array_split(xf, 20)\n",
    "for i in range(len(temp_df)):\n",
    "    temp_df[i] = np.mean(temp_df[i]) \n",
    "df = pd.DataFrame(temp_df)\n",
    "print(temp_df)\n",
    "ax = df.plot()\n",
    "ax.set_xlabel(\"trial\")\n",
    "ax.set_ylabel(\"steps for solution\")\n",
    "ax.legend([\"steps\"])\n"
   ]
  },
  {
   "cell_type": "code",
   "execution_count": 13,
   "metadata": {},
   "outputs": [],
   "source": [
    "# It is hard to say but\n",
    "# looking at amount of times algorithm reaches top steps (50) the steps might actually go down over trials.\n",
    "# I need to somehow smooth it to see it better\n"
   ]
  },
  {
   "cell_type": "code",
   "execution_count": null,
   "metadata": {},
   "outputs": [],
   "source": []
  },
  {
   "cell_type": "code",
   "execution_count": null,
   "metadata": {},
   "outputs": [],
   "source": []
  }
 ],
 "metadata": {
  "kernelspec": {
   "display_name": "Python 3",
   "language": "python",
   "name": "python3"
  },
  "language_info": {
   "codemirror_mode": {
    "name": "ipython",
    "version": 3
   },
   "file_extension": ".py",
   "mimetype": "text/x-python",
   "name": "python",
   "nbconvert_exporter": "python",
   "pygments_lexer": "ipython3",
   "version": "3.7.10"
  }
 },
 "nbformat": 4,
 "nbformat_minor": 1
}
